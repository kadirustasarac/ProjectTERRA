{
 "cells": [
  {
   "cell_type": "code",
   "execution_count": 3,
   "id": "48fc5b70-06e9-4ecf-8e2a-8841db4f1fca",
   "metadata": {},
   "outputs": [
    {
     "name": "stdout",
     "output_type": "stream",
     "text": [
      "Requirement already satisfied: opencv-python in c:\\users\\tusmec\\anaconda3\\lib\\site-packages (4.10.0.84)\n",
      "Requirement already satisfied: numpy>=1.21.2 in c:\\users\\tusmec\\anaconda3\\lib\\site-packages (from opencv-python) (1.26.4)\n"
     ]
    }
   ],
   "source": [
    "!pip install opencv-python\n",
    "import sys\n",
    "import cv2\n",
    "import numpy as np\n",
    "import os\n",
    "import matplotlib.pyplot as plt\n",
    "import glob"
   ]
  },
  {
   "cell_type": "code",
   "execution_count": null,
   "id": "a0597fbf-ee18-4ceb-98b3-506fabaf3faf",
   "metadata": {},
   "outputs": [],
   "source": [
    "def warpImages(img1, img2, H):\n",
    "  rows1, cols1 = img1.shape[:2]\n",
    "  rows2, cols2 = img2.shape[:2]\n",
    "\n",
    "  list_of_points_1 = np.float32([[0,0], [0, rows1],[cols1, rows1], [cols1, 0]]).reshape(-1, 1, 2) #coordinates of a reference image\n",
    "  temp_points = np.float32([[0,0], [0,rows2], [cols2,rows2], [cols2,0]]).reshape(-1,1,2) #coordinates of second image\n",
    "\n",
    "  # When we have established a homography we need to warp perspective\n",
    "  # Change field of view\n",
    "  list_of_points_2 = cv2.perspectiveTransform(temp_points, H)#calculate the transformation matrix\n",
    "\n",
    "  list_of_points = np.concatenate((list_of_points_1,list_of_points_2), axis=0)\n",
    "\n",
    "  [x_min, y_min] = np.int32(list_of_points.min(axis=0).ravel() - 0.5)\n",
    "  [x_max, y_max] = np.int32(list_of_points.max(axis=0).ravel() + 0.5)\n",
    "  \n",
    "  translation_dist = [-x_min,-y_min]\n",
    "  \n",
    "  H_translation = np.array([[1, 0, translation_dist[0]], [0, 1, translation_dist[1]], [0, 0, 1]])\n",
    "\n",
    "  output_img = cv2.warpPerspective(img2, H_translation.dot(H), (x_max-x_min, y_max-y_min))\n",
    "  output_img[translation_dist[1]:rows1+translation_dist[1], translation_dist[0]:cols1+translation_dist[0]] = img1\n",
    "\n",
    "  return output_img"
   ]
  },
  {
   "cell_type": "code",
   "execution_count": 6,
   "id": "c1bf4e4f-4a1c-47fb-b939-9f3946565c65",
   "metadata": {},
   "outputs": [
    {
     "ename": "TypeError",
     "evalue": "glob() takes 1 positional argument but 2 were given",
     "output_type": "error",
     "traceback": [
      "\u001b[1;31m---------------------------------------------------------------------------\u001b[0m",
      "\u001b[1;31mTypeError\u001b[0m                                 Traceback (most recent call last)",
      "Cell \u001b[1;32mIn[6], line 3\u001b[0m\n\u001b[0;32m      1\u001b[0m dizin \u001b[38;5;241m=\u001b[39m os\u001b[38;5;241m.\u001b[39mgetcwd()\n\u001b[1;32m----> 3\u001b[0m path \u001b[38;5;241m=\u001b[39m \u001b[38;5;28msorted\u001b[39m(glob\u001b[38;5;241m.\u001b[39mglob(\u001b[38;5;124m\"\u001b[39m\u001b[38;5;124mPictures/\u001b[39m\u001b[38;5;124m\"\u001b[39m,\u001b[38;5;124m\"\u001b[39m\u001b[38;5;124m*.JPG\u001b[39m\u001b[38;5;124m\"\u001b[39m))\n\u001b[0;32m      4\u001b[0m \u001b[38;5;28mprint\u001b[39m(path)\n\u001b[0;32m      5\u001b[0m img_list \u001b[38;5;241m=\u001b[39m []\n",
      "\u001b[1;31mTypeError\u001b[0m: glob() takes 1 positional argument but 2 were given"
     ]
    }
   ],
   "source": [
    "dizin = os.getcwd()\n",
    "\n",
    "path = sorted(glob.glob(\"Pictures/*.JPG\"))\n",
    "print(path)\n",
    "img_list = []\n",
    "for img in path:\n",
    "    n = cv2.imread(img)\n",
    "    img_list.append(n)\n",
    "    cv2.imshow(\"za\",n)"
   ]
  },
  {
   "cell_type": "code",
   "execution_count": null,
   "id": "84ce6515-98fd-4f22-9c39-4006fef6818d",
   "metadata": {},
   "outputs": [],
   "source": []
  }
 ],
 "metadata": {
  "kernelspec": {
   "display_name": "Python 3 (ipykernel)",
   "language": "python",
   "name": "python3"
  },
  "language_info": {
   "codemirror_mode": {
    "name": "ipython",
    "version": 3
   },
   "file_extension": ".py",
   "mimetype": "text/x-python",
   "name": "python",
   "nbconvert_exporter": "python",
   "pygments_lexer": "ipython3",
   "version": "3.11.7"
  }
 },
 "nbformat": 4,
 "nbformat_minor": 5
}
